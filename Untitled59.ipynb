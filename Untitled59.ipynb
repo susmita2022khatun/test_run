{
  "nbformat": 4,
  "nbformat_minor": 0,
  "metadata": {
    "colab": {
      "provenance": []
    },
    "kernelspec": {
      "name": "python3",
      "display_name": "Python 3"
    },
    "language_info": {
      "name": "python"
    }
  },
  "cells": [
    {
      "cell_type": "code",
      "execution_count": 19,
      "metadata": {
        "id": "7ohGkbQ8YAxP"
      },
      "outputs": [],
      "source": [
        "import torch\n",
        "import torch.nn as nn\n",
        "import torch.optim as optim\n",
        "from torch.utils.data import DataLoader, Dataset\n",
        "import numpy as np\n",
        "import matplotlib.pyplot as plt\n",
        "import math"
      ]
    },
    {
      "cell_type": "code",
      "source": [
        "# Define vocabulary\n",
        "vocab = {'F': 0, 'B': 1, 'X': 2, 'Y': 3, 'P': 4, 'M': 5}  # Add 'P' as a padding token\n",
        "reverse_vocab = {v: k for k, v in vocab.items()}"
      ],
      "metadata": {
        "id": "gpqmgQvVYHgV"
      },
      "execution_count": 20,
      "outputs": []
    },
    {
      "cell_type": "code",
      "source": [
        "# Define the fractal rules\n",
        "koch_snowflake_rules = {\n",
        "    'F': ['F', 'F', 'B', 'B'],\n",
        "    'B': ['F', 'B', 'F', 'B']\n",
        "}\n",
        "\n",
        "sierpinski_triangle_rules = {\n",
        "    'X': ['Y', 'P', 'X', 'P', 'Y'],\n",
        "    'Y': ['X', 'M', 'Y', 'M', 'X'],\n",
        "    'P': ['P'],\n",
        "    'M': ['M']\n",
        "}"
      ],
      "metadata": {
        "id": "IWmMrIsVYNAl"
      },
      "execution_count": 21,
      "outputs": []
    },
    {
      "cell_type": "code",
      "source": [
        "# Fractal Dataset\n",
        "class FractalDataset(Dataset):\n",
        "    def __init__(self, rules, max_depth=5, fractal_type='koch'):\n",
        "        self.rules = rules\n",
        "        self.max_depth = max_depth\n",
        "        self.fractal_type = fractal_type\n",
        "        self.data = self.generate_fractals()\n",
        "\n",
        "    def generate_fractals(self):\n",
        "        fractals = []\n",
        "        for i in range(1, self.max_depth + 1):\n",
        "            input_seq, output_seq = self.generate_fractal(i)\n",
        "            fractals.append((input_seq, output_seq))\n",
        "        return fractals\n",
        "\n",
        "    def generate_fractal(self, depth):\n",
        "        # Start with the initial string\n",
        "        if self.fractal_type == 'koch':\n",
        "            phrase = ['F']\n",
        "        elif self.fractal_type == 'sierpinski':\n",
        "            phrase = ['X']\n",
        "\n",
        "        # Iterate according to the depth\n",
        "        for _ in range(depth):\n",
        "            new_phrase = []\n",
        "            for symbol in phrase:\n",
        "                new_phrase.extend(self.rules.get(symbol, [symbol]))\n",
        "            phrase = new_phrase\n",
        "        return phrase, phrase  # We use the same phrase as input and output\n",
        "\n",
        "    def __len__(self):\n",
        "        return len(self.data)\n",
        "\n",
        "    def __getitem__(self, idx):\n",
        "        input_seq, output_seq = self.data[idx]\n",
        "        input_seq = [vocab[s] for s in input_seq]\n",
        "        output_seq = [vocab[s] for s in output_seq]\n",
        "        return input_seq, output_seq"
      ],
      "metadata": {
        "id": "DthK9I_6YQgM"
      },
      "execution_count": 22,
      "outputs": []
    },
    {
      "cell_type": "code",
      "source": [
        "# Seq2Seq Model\n",
        "class Seq2Seq(nn.Module):\n",
        "    def __init__(self, input_dim, hidden_dim, output_dim, embedding_dim=128):\n",
        "        super(Seq2Seq, self).__init__()\n",
        "        self.embedding = nn.Embedding(input_dim, embedding_dim)  # Embedding layer\n",
        "        self.hidden_dim = hidden_dim\n",
        "        self.encoder = nn.LSTM(embedding_dim, hidden_dim, batch_first=True)\n",
        "        self.decoder = nn.LSTM(hidden_dim, hidden_dim, batch_first=True)\n",
        "        self.fc = nn.Linear(hidden_dim, output_dim)\n",
        "\n",
        "    def forward(self, input_seq):\n",
        "        # Embedding layer\n",
        "        embedded = self.embedding(input_seq)\n",
        "\n",
        "        # Encoding\n",
        "        _, (hidden, _) = self.encoder(embedded)\n",
        "\n",
        "        # Decoding\n",
        "        output, _ = self.decoder(embedded, (hidden, _))\n",
        "        output = self.fc(output)\n",
        "        return output\n"
      ],
      "metadata": {
        "id": "iw8xedbfYVwA"
      },
      "execution_count": 23,
      "outputs": []
    },
    {
      "cell_type": "code",
      "source": [
        "# Collate function for padding sequences\n",
        "def collate_fn(batch):\n",
        "    input_seqs, output_seqs = zip(*batch)\n",
        "    input_seqs = [torch.tensor(seq, dtype=torch.long) for seq in input_seqs]\n",
        "    output_seqs = [torch.tensor(seq, dtype=torch.long) for seq in output_seqs]\n",
        "\n",
        "    # Pad sequences to the same length\n",
        "    input_seqs_padded = torch.nn.utils.rnn.pad_sequence(input_seqs, batch_first=True, padding_value=vocab['P'])\n",
        "    output_seqs_padded = torch.nn.utils.rnn.pad_sequence(output_seqs, batch_first=True, padding_value=vocab['P'])\n",
        "    return input_seqs_padded, output_seqs_padded"
      ],
      "metadata": {
        "id": "SOVwubGMYad7"
      },
      "execution_count": 24,
      "outputs": []
    },
    {
      "cell_type": "code",
      "source": [
        "# Initialize dataset and dataloader\n",
        "max_depth = 5\n",
        "fractal_type = 'koch'  # Change to 'sierpinski' for Sierpinski triangle\n",
        "dataset = FractalDataset(koch_snowflake_rules if fractal_type == 'koch' else sierpinski_triangle_rules, max_depth)\n",
        "dataloader = DataLoader(dataset, batch_size=2, shuffle=True, collate_fn=collate_fn)\n"
      ],
      "metadata": {
        "id": "sXhcaQu1Yd0E"
      },
      "execution_count": 25,
      "outputs": []
    },
    {
      "cell_type": "code",
      "source": [
        "# Initialize the model, loss function, and optimizer\n",
        "input_dim = len(vocab)  # Number of symbols in the vocabulary\n",
        "hidden_dim = 128\n",
        "output_dim = len(vocab)\n",
        "model = Seq2Seq(input_dim, hidden_dim, output_dim)\n",
        "\n",
        "device = torch.device('cuda' if torch.cuda.is_available() else 'cpu')\n",
        "model = model.to(device)\n",
        "criterion = nn.CrossEntropyLoss(ignore_index=vocab['P'])  # Ignore padding token in loss\n",
        "optimizer = optim.Adam(model.parameters(), lr=0.001)"
      ],
      "metadata": {
        "id": "Kv6syVI1YiPd"
      },
      "execution_count": 26,
      "outputs": []
    },
    {
      "cell_type": "code",
      "source": [
        "# Training loop\n",
        "epochs = 40\n",
        "epoch_losses = []\n",
        "for epoch in range(epochs):\n",
        "    model.train()\n",
        "    epoch_loss = 0\n",
        "    for input_seq, output_seq in dataloader:\n",
        "        input_seq, output_seq = input_seq.to(device), output_seq.to(device)\n",
        "\n",
        "        # Zero the gradients\n",
        "        optimizer.zero_grad()\n",
        "\n",
        "        # Forward pass\n",
        "        output = model(input_seq)\n",
        "\n",
        "        # Reshape output and output_seq to calculate loss\n",
        "        output = output.view(-1, output_dim)\n",
        "        output_seq = output_seq.view(-1)\n",
        "\n",
        "        # Compute loss\n",
        "        loss = criterion(output, output_seq)\n",
        "        loss.backward()\n",
        "        optimizer.step()\n",
        "\n",
        "        epoch_loss += loss.item()\n",
        "\n",
        "    epoch_losses.append(epoch_loss / len(dataloader))\n",
        "    print(f'Epoch {epoch+1}/{epochs}, Loss: {epoch_loss/len(dataloader)}')"
      ],
      "metadata": {
        "colab": {
          "base_uri": "https://localhost:8080/",
          "height": 0
        },
        "id": "dfF4ym2TYnkK",
        "outputId": "e2857180-1088-4c6e-b0d7-f9f1076457f1"
      },
      "execution_count": 27,
      "outputs": [
        {
          "output_type": "stream",
          "name": "stdout",
          "text": [
            "Epoch 1/40, Loss: 1.6193701028823853\n",
            "Epoch 2/40, Loss: 1.0368828972180684\n",
            "Epoch 3/40, Loss: 0.6373928785324097\n",
            "Epoch 4/40, Loss: 0.398540198802948\n",
            "Epoch 5/40, Loss: 0.24859429895877838\n",
            "Epoch 6/40, Loss: 0.1613376041253408\n",
            "Epoch 7/40, Loss: 0.10702384263277054\n",
            "Epoch 8/40, Loss: 0.07392699768145879\n",
            "Epoch 9/40, Loss: 0.0528667705754439\n",
            "Epoch 10/40, Loss: 0.039289296915133796\n",
            "Epoch 11/40, Loss: 0.030209428320328396\n",
            "Epoch 12/40, Loss: 0.024080105125904083\n",
            "Epoch 13/40, Loss: 0.019722378502289455\n",
            "Epoch 14/40, Loss: 0.016564464817444485\n",
            "Epoch 15/40, Loss: 0.014177580984930197\n",
            "Epoch 16/40, Loss: 0.012455772298077742\n",
            "Epoch 17/40, Loss: 0.01097479990373055\n",
            "Epoch 18/40, Loss: 0.009863068349659443\n",
            "Epoch 19/40, Loss: 0.008941091286639372\n",
            "Epoch 20/40, Loss: 0.008499624518056711\n",
            "Epoch 21/40, Loss: 0.007603804115206003\n",
            "Epoch 22/40, Loss: 0.007271444424986839\n",
            "Epoch 23/40, Loss: 0.0065979377056161565\n",
            "Epoch 24/40, Loss: 0.00618502264842391\n",
            "Epoch 25/40, Loss: 0.005845997482538223\n",
            "Epoch 26/40, Loss: 0.005529631860554218\n",
            "Epoch 27/40, Loss: 0.0053785916728278\n",
            "Epoch 28/40, Loss: 0.004985795356333256\n",
            "Epoch 29/40, Loss: 0.004736336724211772\n",
            "Epoch 30/40, Loss: 0.004548306266466777\n",
            "Epoch 31/40, Loss: 0.0044487725632886095\n",
            "Epoch 32/40, Loss: 0.004172452259808779\n",
            "Epoch 33/40, Loss: 0.004007600713521242\n",
            "Epoch 34/40, Loss: 0.00385422189719975\n",
            "Epoch 35/40, Loss: 0.0037141641757140556\n",
            "Epoch 36/40, Loss: 0.003563332293803493\n",
            "Epoch 37/40, Loss: 0.0034553942581017814\n",
            "Epoch 38/40, Loss: 0.0033286112205435834\n",
            "Epoch 39/40, Loss: 0.003210880017528931\n",
            "Epoch 40/40, Loss: 0.003121413988992572\n"
          ]
        }
      ]
    },
    {
      "cell_type": "code",
      "source": [
        "\n",
        "# Plot loss function graph\n",
        "plt.plot(range(epochs), epoch_losses, label='Loss')\n",
        "plt.xlabel('Epochs')\n",
        "plt.ylabel('Loss')\n",
        "plt.title('Training Loss Curve')\n",
        "plt.legend()\n",
        "plt.show()"
      ],
      "metadata": {
        "colab": {
          "base_uri": "https://localhost:8080/",
          "height": 472
        },
        "id": "JtY5HcD3Ys7J",
        "outputId": "1dbde5b7-16e7-455a-9bbe-31f1493a3f43"
      },
      "execution_count": 28,
      "outputs": [
        {
          "output_type": "display_data",
          "data": {
            "text/plain": [
              "<Figure size 640x480 with 1 Axes>"
            ],
            "image/png": "[encoded data removed]"
          },
          "metadata": {}
        }
      ]
    },
    {
      "cell_type": "code",
      "source": [],
      "metadata": {
        "id": "SJne6bRtckMm"
      },
      "execution_count": null,
      "outputs": []
    }
  ]
}